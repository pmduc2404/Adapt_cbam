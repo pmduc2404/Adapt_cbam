{
 "cells": [
  {
   "cell_type": "code",
   "execution_count": 2,
   "metadata": {
    "executionInfo": {
     "elapsed": 4,
     "status": "ok",
     "timestamp": 1750311326561,
     "user": {
      "displayName": "Phạm Minh Đức 65 MT&KHTT",
      "userId": "01185828266051576467"
     },
     "user_tz": -420
    },
    "id": "YjeRAwd6jPKs"
   },
   "outputs": [
    {
     "name": "stdout",
     "output_type": "stream",
     "text": [
      "Downloading TinyImageNet...\n",
      "Extracting TinyImageNet...\n",
      "TinyImageNet downloaded and extracted.\n"
     ]
    }
   ],
   "source": [
    "import requests\n",
    "import zipfile\n",
    "import os\n",
    "\n",
    "def download_tinyimagenet(data_dir):\n",
    "    url = \"http://cs231n.stanford.edu/tiny-imagenet-200.zip\"\n",
    "    os.makedirs(data_dir, exist_ok=True)\n",
    "    zip_path = os.path.join(data_dir, \"tiny-imagenet-200.zip\")\n",
    "    \n",
    "    if not os.path.exists(os.path.join(data_dir, \"tiny-imagenet-200\")):\n",
    "        print(\"Downloading TinyImageNet...\")\n",
    "        response = requests.get(url, stream=True)\n",
    "        with open(zip_path, \"wb\") as f:\n",
    "            for chunk in response.iter_content(chunk_size=8192):\n",
    "                f.write(chunk)\n",
    "        print(\"Extracting TinyImageNet...\")\n",
    "        with zipfile.ZipFile(zip_path, \"r\") as zip_ref:\n",
    "            zip_ref.extractall(data_dir)\n",
    "        os.remove(zip_path)\n",
    "        print(\"TinyImageNet downloaded and extracted.\")\n",
    "download_tinyimagenet(\"data/tiny-imagenet-200\")"
   ]
  },
  {
   "cell_type": "code",
   "execution_count": null,
   "metadata": {
    "colab": {
     "base_uri": "https://localhost:8080/"
    },
    "id": "8QkCrrolj5VK",
    "outputId": "71667533-1ce5-4ecd-ef34-2bec354431b1"
   },
   "outputs": [],
   "source": [
    "!python train_mobilenetv3.py \\\n",
    "  --dataset CIFAR10 \\\n",
    "  --ngpu 1 \\\n",
    "  --workers 4 \\\n",
    "  --arch mobilenetv3_small \\\n",
    "  --epochs 100 \\\n",
    "  --batch-size 256 \\\n",
    "  --lr 0.1 \\\n",
    "  --prefix mobilenetv3_small_CIFAR10_CBAM \\\n",
    "  ./data\n"
   ]
  },
  {
   "cell_type": "code",
   "execution_count": 1,
   "metadata": {
    "colab": {
     "base_uri": "https://localhost:8080/"
    },
    "executionInfo": {
     "elapsed": 1011850,
     "status": "ok",
     "timestamp": 1750311314760,
     "user": {
      "displayName": "Phạm Minh Đức 65 MT&KHTT",
      "userId": "01185828266051576467"
     },
     "user_tz": -420
    },
    "id": "MS2o6zWqjsEb",
    "outputId": "6216718f-71af-4859-b950-41d170ccaac8"
   },
   "outputs": [
    {
     "name": "stdout",
     "output_type": "stream",
     "text": [
      "args Namespace(data='./data', dataset='CIFAR10', arch='resnet', depth=50, ngpu=1, workers=8, epochs=100, start_epoch=0, batch_size=256, lr=0.1, momentum=0.9, weight_decay=0.0001, print_freq=10, resume='', seed=1234, prefix='RESNET50_CIFAR10_CBAM', evaluate=False, att_type='CBAM')\n",
      "Number of model parameters: 26053466\n",
      "Files already downloaded and verified\n",
      "Files already downloaded and verified\n"
     ]
    },
    {
     "name": "stderr",
     "output_type": "stream",
     "text": [
      "c:\\Users\\Admin\\Desktop\\Desktop\\Adapt-CBAM\\MODELS\\model_resnet_adapt_cbam.py:129: UserWarning: nn.init.kaiming_normal is now deprecated in favor of nn.init.kaiming_normal_.\n",
      "  init.kaiming_normal(self.fc.weight)\n",
      "c:\\Users\\Admin\\Desktop\\Desktop\\Adapt-CBAM\\MODELS\\model_resnet_adapt_cbam.py:133: UserWarning: nn.init.kaiming_normal is now deprecated in favor of nn.init.kaiming_normal_.\n",
      "  init.kaiming_normal(self.state_dict()[key], mode='fan_out')\n",
      "Traceback (most recent call last):\n",
      "  File \"c:\\Users\\Admin\\Desktop\\Desktop\\Adapt-CBAM\\train_imagenet_adapt_cbam.py\", line 269, in <module>\n",
      "    main()\n",
      "  File \"c:\\Users\\Admin\\Desktop\\Desktop\\Adapt-CBAM\\train_imagenet_adapt_cbam.py\", line 138, in main\n",
      "    train(train_loader, model, criterion, optimizer, epoch)\n",
      "  File \"c:\\Users\\Admin\\Desktop\\Desktop\\Adapt-CBAM\\train_imagenet_adapt_cbam.py\", line 165, in train\n",
      "    output = model(input)\n",
      "             ^^^^^^^^^^^^\n",
      "  File \"c:\\Users\\Admin\\anaconda3\\envs\\dfine\\Lib\\site-packages\\torch\\nn\\modules\\module.py\", line 1532, in _wrapped_call_impl\n",
      "    return self._call_impl(*args, **kwargs)\n",
      "           ^^^^^^^^^^^^^^^^^^^^^^^^^^^^^^^^\n",
      "  File \"c:\\Users\\Admin\\anaconda3\\envs\\dfine\\Lib\\site-packages\\torch\\nn\\modules\\module.py\", line 1541, in _call_impl\n",
      "    return forward_call(*args, **kwargs)\n",
      "           ^^^^^^^^^^^^^^^^^^^^^^^^^^^^^\n",
      "  File \"c:\\Users\\Admin\\anaconda3\\envs\\dfine\\Lib\\site-packages\\torch\\nn\\parallel\\data_parallel.py\", line 183, in forward\n",
      "    return self.module(*inputs[0], **module_kwargs[0])\n",
      "           ^^^^^^^^^^^^^^^^^^^^^^^^^^^^^^^^^^^^^^^^^^^\n",
      "  File \"c:\\Users\\Admin\\anaconda3\\envs\\dfine\\Lib\\site-packages\\torch\\nn\\modules\\module.py\", line 1532, in _wrapped_call_impl\n",
      "    return self._call_impl(*args, **kwargs)\n",
      "           ^^^^^^^^^^^^^^^^^^^^^^^^^^^^^^^^\n",
      "  File \"c:\\Users\\Admin\\anaconda3\\envs\\dfine\\Lib\\site-packages\\torch\\nn\\modules\\module.py\", line 1541, in _call_impl\n",
      "    return forward_call(*args, **kwargs)\n",
      "           ^^^^^^^^^^^^^^^^^^^^^^^^^^^^^\n",
      "  File \"c:\\Users\\Admin\\Desktop\\Desktop\\Adapt-CBAM\\MODELS\\model_resnet_adapt_cbam.py\", line 178, in forward\n",
      "    x = self.layer4(x)\n",
      "        ^^^^^^^^^^^^^^\n",
      "  File \"c:\\Users\\Admin\\anaconda3\\envs\\dfine\\Lib\\site-packages\\torch\\nn\\modules\\module.py\", line 1532, in _wrapped_call_impl\n",
      "    return self._call_impl(*args, **kwargs)\n",
      "           ^^^^^^^^^^^^^^^^^^^^^^^^^^^^^^^^\n",
      "  File \"c:\\Users\\Admin\\anaconda3\\envs\\dfine\\Lib\\site-packages\\torch\\nn\\modules\\module.py\", line 1541, in _call_impl\n",
      "    return forward_call(*args, **kwargs)\n",
      "           ^^^^^^^^^^^^^^^^^^^^^^^^^^^^^\n",
      "  File \"c:\\Users\\Admin\\anaconda3\\envs\\dfine\\Lib\\site-packages\\torch\\nn\\modules\\container.py\", line 217, in forward\n",
      "    input = module(input)\n",
      "            ^^^^^^^^^^^^^\n",
      "  File \"c:\\Users\\Admin\\anaconda3\\envs\\dfine\\Lib\\site-packages\\torch\\nn\\modules\\module.py\", line 1532, in _wrapped_call_impl\n",
      "    return self._call_impl(*args, **kwargs)\n",
      "           ^^^^^^^^^^^^^^^^^^^^^^^^^^^^^^^^\n",
      "  File \"c:\\Users\\Admin\\anaconda3\\envs\\dfine\\Lib\\site-packages\\torch\\nn\\modules\\module.py\", line 1541, in _call_impl\n",
      "    return forward_call(*args, **kwargs)\n",
      "           ^^^^^^^^^^^^^^^^^^^^^^^^^^^^^\n",
      "  File \"c:\\Users\\Admin\\Desktop\\Desktop\\Adapt-CBAM\\MODELS\\model_resnet_adapt_cbam.py\", line 85, in forward\n",
      "    out = self.conv3(out)\n",
      "          ^^^^^^^^^^^^^^^\n",
      "  File \"c:\\Users\\Admin\\anaconda3\\envs\\dfine\\Lib\\site-packages\\torch\\nn\\modules\\module.py\", line 1532, in _wrapped_call_impl\n",
      "    return self._call_impl(*args, **kwargs)\n",
      "           ^^^^^^^^^^^^^^^^^^^^^^^^^^^^^^^^\n",
      "  File \"c:\\Users\\Admin\\anaconda3\\envs\\dfine\\Lib\\site-packages\\torch\\nn\\modules\\module.py\", line 1541, in _call_impl\n",
      "    return forward_call(*args, **kwargs)\n",
      "           ^^^^^^^^^^^^^^^^^^^^^^^^^^^^^\n",
      "  File \"c:\\Users\\Admin\\anaconda3\\envs\\dfine\\Lib\\site-packages\\torch\\nn\\modules\\conv.py\", line 460, in forward\n",
      "    return self._conv_forward(input, self.weight, self.bias)\n",
      "           ^^^^^^^^^^^^^^^^^^^^^^^^^^^^^^^^^^^^^^^^^^^^^^^^^\n",
      "  File \"c:\\Users\\Admin\\anaconda3\\envs\\dfine\\Lib\\site-packages\\torch\\nn\\modules\\conv.py\", line 456, in _conv_forward\n",
      "    return F.conv2d(input, weight, bias, self.stride,\n",
      "           ^^^^^^^^^^^^^^^^^^^^^^^^^^^^^^^^^^^^^^^^^^\n",
      "torch.cuda.OutOfMemoryError: CUDA out of memory. Tried to allocate 32.00 MiB. GPU \n"
     ]
    }
   ],
   "source": [
    "!python train_imagenet_adapt_cbam.py \\\n",
    "  --dataset CIFAR10 \\\n",
    "  --ngpu 1 \\\n",
    "  --workers 8 \\\n",
    "  --arch resnet \\\n",
    "  --depth 50 \\\n",
    "  --epochs 100 \\\n",
    "  --batch-size 256 \\\n",
    "  --lr 0.1 \\\n",
    "  --att-type CBAM \\\n",
    "  --prefix RESNET50_CIFAR10_CBAM \\\n",
    "  ./data\n"
   ]
  },
  {
   "cell_type": "code",
   "execution_count": null,
   "metadata": {
    "id": "DpZu8Xejj-J7"
   },
   "outputs": [],
   "source": []
  }
 ],
 "metadata": {
  "accelerator": "GPU",
  "colab": {
   "authorship_tag": "ABX9TyOdV/RrVjvl7Rcszvp8bPnW",
   "gpuType": "T4",
   "provenance": []
  },
  "kernelspec": {
   "display_name": "dfine",
   "language": "python",
   "name": "python3"
  },
  "language_info": {
   "codemirror_mode": {
    "name": "ipython",
    "version": 3
   },
   "file_extension": ".py",
   "mimetype": "text/x-python",
   "name": "python",
   "nbconvert_exporter": "python",
   "pygments_lexer": "ipython3",
   "version": "3.11.9"
  }
 },
 "nbformat": 4,
 "nbformat_minor": 0
}
